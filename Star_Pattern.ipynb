{
  "nbformat": 4,
  "nbformat_minor": 0,
  "metadata": {
    "colab": {
      "name": "Star Pattern.ipynb",
      "provenance": [],
      "collapsed_sections": []
    },
    "kernelspec": {
      "name": "python3",
      "display_name": "Python 3"
    },
    "language_info": {
      "name": "python"
    }
  },
  "cells": [
    {
      "cell_type": "markdown",
      "source": [
        "**STAR PATTERN**\n",
        "> Here we will make an Star Patterns :\n",
        "1. Square\n",
        "2. Half Left Triangle\n",
        "3. Half Left Down Triangel\n",
        "4. Triangle\n",
        "5. Trapezium"
      ],
      "metadata": {
        "id": "Ve-Cudts7dFQ"
      }
    },
    {
      "cell_type": "markdown",
      "source": [
        "⚛ Note (Most of the variables below are used for) : \n",
        "*   i = row\n",
        "*   j = column\n",
        "*   x = additional var for pattern\n",
        "\n"
      ],
      "metadata": {
        "id": "D7LQecshj42K"
      }
    },
    {
      "cell_type": "markdown",
      "source": [
        "**1. SQUARE**"
      ],
      "metadata": {
        "id": "YhEJcrVz7lWi"
      }
    },
    {
      "cell_type": "code",
      "execution_count": null,
      "metadata": {
        "colab": {
          "base_uri": "https://localhost:8080/"
        },
        "id": "kGe0EB1m7bDT",
        "outputId": "f483baaf-38f2-4c22-c5d0-3ec8c803865c"
      },
      "outputs": [
        {
          "output_type": "stream",
          "name": "stdout",
          "text": [
            "* * * * * \n",
            "* * * * * \n",
            "* * * * * \n",
            "* * * * * \n",
            "* * * * * \n"
          ]
        }
      ],
      "source": [
        "for i in range(5): #for Row\n",
        "  for j in range(5): #for Column\n",
        "      print(\"*\", end=\" \")\n",
        "  print()"
      ]
    },
    {
      "cell_type": "markdown",
      "source": [
        "**2. HALF LEFT TRIANGLE**"
      ],
      "metadata": {
        "id": "5EVzblr-7zsr"
      }
    },
    {
      "cell_type": "code",
      "source": [
        "for i in range(5): #for Row\n",
        "  for j in range(i+1): #for Column\n",
        "    print(\"*\", end=\" \")\n",
        "  print()"
      ],
      "metadata": {
        "colab": {
          "base_uri": "https://localhost:8080/"
        },
        "id": "9SOvXmlO7zNS",
        "outputId": "681636bf-18f9-4fc9-e6d1-bbfb4ad12686"
      },
      "execution_count": null,
      "outputs": [
        {
          "output_type": "stream",
          "name": "stdout",
          "text": [
            "* \n",
            "* * \n",
            "* * * \n",
            "* * * * \n",
            "* * * * * \n"
          ]
        }
      ]
    },
    {
      "cell_type": "markdown",
      "source": [
        "**3. HALF LEFT DOWN TRIANGLE**"
      ],
      "metadata": {
        "id": "WHcDVSCr73aZ"
      }
    },
    {
      "cell_type": "code",
      "source": [
        "for i in range(6,0,-1): #want to make 5 row, so start with 6\n",
        "  for j in range(i-1):\n",
        "    print(\"*\", end=\" \")\n",
        "  print()"
      ],
      "metadata": {
        "colab": {
          "base_uri": "https://localhost:8080/"
        },
        "id": "bGnpighI73vb",
        "outputId": "08b8a582-af7f-4364-e56b-763253a5a27d"
      },
      "execution_count": null,
      "outputs": [
        {
          "output_type": "stream",
          "name": "stdout",
          "text": [
            "* * * * * \n",
            "* * * * \n",
            "* * * \n",
            "* * \n",
            "* \n",
            "\n"
          ]
        }
      ]
    },
    {
      "cell_type": "markdown",
      "source": [
        "**4. TRIANGLE**"
      ],
      "metadata": {
        "id": "2bT6Mk_uKjVK"
      }
    },
    {
      "cell_type": "code",
      "source": [
        "for i in range(1,6): #for row\n",
        "  for j in range(i,6): #for spacing and column\n",
        "    print(end=\" \")\n",
        "  for x in range(0, i): #for star output\n",
        "    print(\"*\", end=\" \")\n",
        "  print()"
      ],
      "metadata": {
        "colab": {
          "base_uri": "https://localhost:8080/"
        },
        "id": "BoO8YloTKjug",
        "outputId": "0c3454ce-ee84-4271-f297-d869de25d3f8"
      },
      "execution_count": null,
      "outputs": [
        {
          "output_type": "stream",
          "name": "stdout",
          "text": [
            "     * \n",
            "    * * \n",
            "   * * * \n",
            "  * * * * \n",
            " * * * * * \n"
          ]
        }
      ]
    },
    {
      "cell_type": "markdown",
      "source": [
        "**5. TRAPEZIUM**"
      ],
      "metadata": {
        "id": "5tgkNMzwL2o6"
      }
    },
    {
      "cell_type": "code",
      "source": [
        "for i in range(3,6): #for row\n",
        "  for j in range(i,6): #for spacing and column\n",
        "    print(end=\" \")\n",
        "  for x in range(0, i): #for star output\n",
        "    print(\"*\", end=\" \")\n",
        "  print()"
      ],
      "metadata": {
        "colab": {
          "base_uri": "https://localhost:8080/"
        },
        "id": "PyHFNgnoMEB_",
        "outputId": "f72a4b79-9133-4be5-e575-8c6012be190c"
      },
      "execution_count": null,
      "outputs": [
        {
          "output_type": "stream",
          "name": "stdout",
          "text": [
            "   * * * \n",
            "  * * * * \n",
            " * * * * * \n"
          ]
        }
      ]
    }
  ]
}
